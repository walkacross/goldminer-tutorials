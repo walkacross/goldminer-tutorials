{
 "cells": [
  {
   "cell_type": "code",
   "execution_count": 13,
   "metadata": {},
   "outputs": [],
   "source": [
    "import pandas as pd\n",
    "import numpy as np"
   ]
  },
  {
   "cell_type": "code",
   "execution_count": 14,
   "metadata": {},
   "outputs": [],
   "source": [
    "# just define some function as usual, we call this function as callback function\n",
    "def init(context):\n",
    "    context.stock = \"000001\"\n",
    "\n",
    "    \n",
    "def on_bar(context, bar):\n",
    "    print(context.dt)\n",
    "    print(bar.__dict__)\n",
    "\n",
    "def after_bar(context):\n",
    "    print(\"after bar, do something\")\n"
   ]
  },
  {
   "cell_type": "code",
   "execution_count": 15,
   "metadata": {},
   "outputs": [],
   "source": [
    "class Context(object):\n",
    "    pass\n",
    "\n",
    "class Bar(object):\n",
    "    pass\n"
   ]
  },
  {
   "cell_type": "code",
   "execution_count": 17,
   "metadata": {},
   "outputs": [],
   "source": [
    "def backtest(start=\"2021-01-01\", end=\"2021-02-01\"):\n",
    "    trading_dates = pd.date_range(start=start, end=end)\n",
    "    context = Context()\n",
    "    bar = Bar()\n",
    "    \n",
    "    init(context)\n",
    "    \n",
    "    for date in trading_dates:\n",
    "        context.dt  = date\n",
    "        bar.dt = date\n",
    "        bar.price = np.random.randn(1)\n",
    "        \n",
    "        on_bar(context, bar)\n",
    "        after_bar(context)"
   ]
  },
  {
   "cell_type": "code",
   "execution_count": 18,
   "metadata": {},
   "outputs": [
    {
     "name": "stdout",
     "output_type": "stream",
     "text": [
      "2021-01-01 00:00:00\n",
      "{'dt': Timestamp('2021-01-01 00:00:00', freq='D'), 'price': array([-0.09636083])}\n",
      "after bar, do something\n",
      "2021-01-02 00:00:00\n",
      "{'dt': Timestamp('2021-01-02 00:00:00', freq='D'), 'price': array([0.19309614])}\n",
      "after bar, do something\n",
      "2021-01-03 00:00:00\n",
      "{'dt': Timestamp('2021-01-03 00:00:00', freq='D'), 'price': array([0.28986004])}\n",
      "after bar, do something\n",
      "2021-01-04 00:00:00\n",
      "{'dt': Timestamp('2021-01-04 00:00:00', freq='D'), 'price': array([0.34200516])}\n",
      "after bar, do something\n",
      "2021-01-05 00:00:00\n",
      "{'dt': Timestamp('2021-01-05 00:00:00', freq='D'), 'price': array([-1.00358593])}\n",
      "after bar, do something\n",
      "2021-01-06 00:00:00\n",
      "{'dt': Timestamp('2021-01-06 00:00:00', freq='D'), 'price': array([0.00231957])}\n",
      "after bar, do something\n",
      "2021-01-07 00:00:00\n",
      "{'dt': Timestamp('2021-01-07 00:00:00', freq='D'), 'price': array([-0.31923856])}\n",
      "after bar, do something\n",
      "2021-01-08 00:00:00\n",
      "{'dt': Timestamp('2021-01-08 00:00:00', freq='D'), 'price': array([-0.20500711])}\n",
      "after bar, do something\n",
      "2021-01-09 00:00:00\n",
      "{'dt': Timestamp('2021-01-09 00:00:00', freq='D'), 'price': array([-0.14192138])}\n",
      "after bar, do something\n",
      "2021-01-10 00:00:00\n",
      "{'dt': Timestamp('2021-01-10 00:00:00', freq='D'), 'price': array([-0.10781611])}\n",
      "after bar, do something\n",
      "2021-01-11 00:00:00\n",
      "{'dt': Timestamp('2021-01-11 00:00:00', freq='D'), 'price': array([0.74723697])}\n",
      "after bar, do something\n",
      "2021-01-12 00:00:00\n",
      "{'dt': Timestamp('2021-01-12 00:00:00', freq='D'), 'price': array([1.5062105])}\n",
      "after bar, do something\n",
      "2021-01-13 00:00:00\n",
      "{'dt': Timestamp('2021-01-13 00:00:00', freq='D'), 'price': array([-0.11227476])}\n",
      "after bar, do something\n",
      "2021-01-14 00:00:00\n",
      "{'dt': Timestamp('2021-01-14 00:00:00', freq='D'), 'price': array([0.30968723])}\n",
      "after bar, do something\n",
      "2021-01-15 00:00:00\n",
      "{'dt': Timestamp('2021-01-15 00:00:00', freq='D'), 'price': array([-2.1512643])}\n",
      "after bar, do something\n",
      "2021-01-16 00:00:00\n",
      "{'dt': Timestamp('2021-01-16 00:00:00', freq='D'), 'price': array([-0.36057977])}\n",
      "after bar, do something\n",
      "2021-01-17 00:00:00\n",
      "{'dt': Timestamp('2021-01-17 00:00:00', freq='D'), 'price': array([0.07307246])}\n",
      "after bar, do something\n",
      "2021-01-18 00:00:00\n",
      "{'dt': Timestamp('2021-01-18 00:00:00', freq='D'), 'price': array([-0.12272891])}\n",
      "after bar, do something\n",
      "2021-01-19 00:00:00\n",
      "{'dt': Timestamp('2021-01-19 00:00:00', freq='D'), 'price': array([-0.3069732])}\n",
      "after bar, do something\n",
      "2021-01-20 00:00:00\n",
      "{'dt': Timestamp('2021-01-20 00:00:00', freq='D'), 'price': array([-1.23684606])}\n",
      "after bar, do something\n",
      "2021-01-21 00:00:00\n",
      "{'dt': Timestamp('2021-01-21 00:00:00', freq='D'), 'price': array([0.47061456])}\n",
      "after bar, do something\n",
      "2021-01-22 00:00:00\n",
      "{'dt': Timestamp('2021-01-22 00:00:00', freq='D'), 'price': array([1.08714728])}\n",
      "after bar, do something\n",
      "2021-01-23 00:00:00\n",
      "{'dt': Timestamp('2021-01-23 00:00:00', freq='D'), 'price': array([-0.70718788])}\n",
      "after bar, do something\n",
      "2021-01-24 00:00:00\n",
      "{'dt': Timestamp('2021-01-24 00:00:00', freq='D'), 'price': array([1.46763839])}\n",
      "after bar, do something\n",
      "2021-01-25 00:00:00\n",
      "{'dt': Timestamp('2021-01-25 00:00:00', freq='D'), 'price': array([0.70707845])}\n",
      "after bar, do something\n",
      "2021-01-26 00:00:00\n",
      "{'dt': Timestamp('2021-01-26 00:00:00', freq='D'), 'price': array([-0.73089621])}\n",
      "after bar, do something\n",
      "2021-01-27 00:00:00\n",
      "{'dt': Timestamp('2021-01-27 00:00:00', freq='D'), 'price': array([-0.49150401])}\n",
      "after bar, do something\n",
      "2021-01-28 00:00:00\n",
      "{'dt': Timestamp('2021-01-28 00:00:00', freq='D'), 'price': array([0.22375053])}\n",
      "after bar, do something\n",
      "2021-01-29 00:00:00\n",
      "{'dt': Timestamp('2021-01-29 00:00:00', freq='D'), 'price': array([0.1190882])}\n",
      "after bar, do something\n",
      "2021-01-30 00:00:00\n",
      "{'dt': Timestamp('2021-01-30 00:00:00', freq='D'), 'price': array([0.07167136])}\n",
      "after bar, do something\n",
      "2021-01-31 00:00:00\n",
      "{'dt': Timestamp('2021-01-31 00:00:00', freq='D'), 'price': array([-1.21951886])}\n",
      "after bar, do something\n",
      "2021-02-01 00:00:00\n",
      "{'dt': Timestamp('2021-02-01 00:00:00', freq='D'), 'price': array([0.12454652])}\n",
      "after bar, do something\n"
     ]
    }
   ],
   "source": [
    "backtest()"
   ]
  },
  {
   "cell_type": "code",
   "execution_count": null,
   "metadata": {},
   "outputs": [],
   "source": []
  }
 ],
 "metadata": {
  "kernelspec": {
   "display_name": "Python 3",
   "language": "python",
   "name": "python3"
  },
  "language_info": {
   "codemirror_mode": {
    "name": "ipython",
    "version": 3
   },
   "file_extension": ".py",
   "mimetype": "text/x-python",
   "name": "python",
   "nbconvert_exporter": "python",
   "pygments_lexer": "ipython3",
   "version": "3.8.5"
  }
 },
 "nbformat": 4,
 "nbformat_minor": 4
}
