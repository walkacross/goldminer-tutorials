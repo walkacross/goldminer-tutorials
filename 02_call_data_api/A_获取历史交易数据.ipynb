{
 "cells": [
  {
   "cell_type": "markdown",
   "metadata": {},
   "source": [
    "[API docs](https://www.myquant.cn/docs/python/python_select_api#18e12fc5edd43bb3)"
   ]
  },
  {
   "cell_type": "code",
   "execution_count": 1,
   "metadata": {},
   "outputs": [],
   "source": [
    "from gm.api import *\n",
    "# 可以直接提取数据，掘金终端需要打开，接口取数是通过网络请求的方式，效率一般，行情数据可通过subscribe订阅方式\n",
    "# 设置token， 查看已有token ID,在用户-密钥管理里获取\n",
    "set_token('ae63aa5ff48e0010b1dc491cec149f03d0595e45')"
   ]
  },
  {
   "cell_type": "markdown",
   "metadata": {},
   "source": [
    "## history"
   ]
  },
  {
   "cell_type": "markdown",
   "metadata": {},
   "source": [
    "* 获取某个交易区间，交易数据，使用history api\n",
    "* 频率, 支持 ‘tick’, ‘1d’, ‘15s’, ‘30s’ 等, 默认 ‘1d’,\n",
    "* 可以获取1只，也可以获取多只，但是不准以list形式输入，而是使用\",\"这种不pythonic的方式输入（此处差评）"
   ]
  },
  {
   "cell_type": "code",
   "execution_count": 7,
   "metadata": {},
   "outputs": [
    {
     "name": "stdout",
     "output_type": "stream",
     "text": [
      "          symbol     open     high      low    close                       eob\n",
      "0    SHSE.600000  11.8261  11.9873  11.8071  11.8261 2020-01-02 00:00:00+08:00\n",
      "1    SHSE.600000  11.9209  11.9778  11.8261  11.9494 2020-01-03 00:00:00+08:00\n",
      "2    SHSE.600000  11.8735  11.9968  11.7787  11.8166 2020-01-06 00:00:00+08:00\n",
      "3    SHSE.600000  11.8640  11.9494  11.8166  11.8546 2020-01-07 00:00:00+08:00\n",
      "4    SHSE.600000  11.7692  11.8071  11.6175  11.6839 2020-01-08 00:00:00+08:00\n",
      "..           ...      ...      ...      ...      ...                       ...\n",
      "238  SHSE.600000   9.5600   9.6100   9.5100   9.5800 2020-12-25 00:00:00+08:00\n",
      "239  SHSE.600000   9.5500   9.6300   9.5000   9.5700 2020-12-28 00:00:00+08:00\n",
      "240  SHSE.600000   9.5900   9.6200   9.5200   9.5300 2020-12-29 00:00:00+08:00\n",
      "241  SHSE.600000   9.5200   9.5400   9.4400   9.5000 2020-12-30 00:00:00+08:00\n",
      "242  SHSE.600000   9.5100   9.6900   9.4900   9.6800 2020-12-31 00:00:00+08:00\n",
      "\n",
      "[243 rows x 6 columns]\n"
     ]
    }
   ],
   "source": [
    "# 查询历史行情, 采用定点复权的方式， adjust指定前复权，adjust_end_time指定复权时间点\n",
    "data = history(symbol='SHSE.600000', frequency='1d', start_time='2020-01-01 09:00:00', end_time='2020-12-31 16:00:00',\n",
    "               fields='symbol,open,high,low,close,eob', adjust=ADJUST_PREV, adjust_end_time='2020-12-31', df=True)\n",
    "print(data)"
   ]
  },
  {
   "cell_type": "code",
   "execution_count": 8,
   "metadata": {},
   "outputs": [
    {
     "name": "stdout",
     "output_type": "stream",
     "text": [
      "          symbol     open     high      low    close                       eob\n",
      "0    SZSE.000001  16.3708  16.6658  16.2725  16.5871 2020-01-02 00:00:00+08:00\n",
      "1    SHSE.600000  11.8261  11.9873  11.8071  11.8261 2020-01-02 00:00:00+08:00\n",
      "2    SZSE.000001  16.6559  17.0197  16.6363  16.8919 2020-01-03 00:00:00+08:00\n",
      "3    SHSE.600000  11.9209  11.9778  11.8261  11.9494 2020-01-03 00:00:00+08:00\n",
      "4    SZSE.000001  16.7248  17.0492  16.6264  16.7837 2020-01-06 00:00:00+08:00\n",
      "..           ...      ...      ...      ...      ...                       ...\n",
      "481  SHSE.600000   9.5900   9.6200   9.5200   9.5300 2020-12-29 00:00:00+08:00\n",
      "482  SZSE.000001  19.0000  19.2000  18.7200  19.2000 2020-12-30 00:00:00+08:00\n",
      "483  SHSE.600000   9.5200   9.5400   9.4400   9.5000 2020-12-30 00:00:00+08:00\n",
      "484  SZSE.000001  19.2100  19.5800  19.0200  19.3400 2020-12-31 00:00:00+08:00\n",
      "485  SHSE.600000   9.5100   9.6900   9.4900   9.6800 2020-12-31 00:00:00+08:00\n",
      "\n",
      "[486 rows x 6 columns]\n"
     ]
    }
   ],
   "source": [
    "multi_data = history(symbol='SHSE.600000, SZSE.000001', frequency='1d', start_time='2020-01-01 09:00:00', end_time='2020-12-31 16:00:00',\n",
    "               fields='symbol,open,high,low,close,eob', adjust=ADJUST_PREV, adjust_end_time='2020-12-31', df=True)\n",
    "print(multi_data)"
   ]
  },
  {
   "cell_type": "markdown",
   "metadata": {},
   "source": [
    "## history_n"
   ]
  },
  {
   "cell_type": "code",
   "execution_count": 4,
   "metadata": {},
   "outputs": [
    {
     "name": "stdout",
     "output_type": "stream",
     "text": [
      "         symbol       open      close        low       high  \\\n",
      "0   SHSE.600519  1337.6315  1300.6165  1295.4070  1337.7292   \n",
      "1   SHSE.600519  1302.3790  1334.5958  1293.5660  1338.1993   \n",
      "2   SHSE.600519  1341.4308  1329.7975  1326.8599  1341.4994   \n",
      "3   SHSE.600519  1330.7769  1310.2129  1305.3167  1331.7560   \n",
      "4   SHSE.600519  1310.1835  1316.0884  1293.6934  1318.9673   \n",
      "..          ...        ...        ...        ...        ...   \n",
      "95  SHSE.600519  1723.7675  1712.8701  1709.8981  1730.6823   \n",
      "96  SHSE.600519  1705.0736  1708.9073  1704.9447  1718.8142   \n",
      "97  SHSE.600519  1708.9073  1696.0287  1687.1127  1718.3979   \n",
      "98  SHSE.600519  1708.9073  1683.1500  1676.1162  1717.8036   \n",
      "99  SHSE.600519  1684.1307  1717.8234  1679.1874  1718.7844   \n",
      "\n",
      "                         eob  \n",
      "0  2020-05-22 00:00:00+08:00  \n",
      "1  2020-05-25 00:00:00+08:00  \n",
      "2  2020-05-26 00:00:00+08:00  \n",
      "3  2020-05-27 00:00:00+08:00  \n",
      "4  2020-05-28 00:00:00+08:00  \n",
      "..                       ...  \n",
      "95 2020-10-14 00:00:00+08:00  \n",
      "96 2020-10-15 00:00:00+08:00  \n",
      "97 2020-10-16 00:00:00+08:00  \n",
      "98 2020-10-19 00:00:00+08:00  \n",
      "99 2020-10-20 00:00:00+08:00  \n",
      "\n",
      "[100 rows x 6 columns]\n"
     ]
    }
   ],
   "source": [
    "history_n_data = history_n(symbol='SHSE.600519', frequency='1d', count=100, end_time='2020-10-20 15:30:00', fields='symbol, open, close, low, high, eob', adjust=ADJUST_PREV, df=True)\n",
    "print(history_n_data)"
   ]
  },
  {
   "cell_type": "code",
   "execution_count": null,
   "metadata": {},
   "outputs": [],
   "source": []
  }
 ],
 "metadata": {
  "kernelspec": {
   "display_name": "Python 3",
   "language": "python",
   "name": "python3"
  },
  "language_info": {
   "codemirror_mode": {
    "name": "ipython",
    "version": 3
   },
   "file_extension": ".py",
   "mimetype": "text/x-python",
   "name": "python",
   "nbconvert_exporter": "python",
   "pygments_lexer": "ipython3",
   "version": "3.8.5"
  }
 },
 "nbformat": 4,
 "nbformat_minor": 4
}
