{
 "cells": [
  {
   "cell_type": "code",
   "execution_count": 1,
   "metadata": {},
   "outputs": [],
   "source": [
    "from gm.api import *\n",
    "# 可以直接提取数据，掘金终端需要打开，接口取数是通过网络请求的方式，效率一般，行情数据可通过subscribe订阅方式\n",
    "# 设置token， 查看已有token ID,在用户-密钥管理里获取\n",
    "set_token('ae63aa5ff48e0010b1dc491cec149f03d0595e45')"
   ]
  },
  {
   "cell_type": "markdown",
   "metadata": {},
   "source": [
    "## get_fundamentals  查询基本面数据"
   ]
  },
  {
   "cell_type": "code",
   "execution_count": 3,
   "metadata": {},
   "outputs": [
    {
     "name": "stdout",
     "output_type": "stream",
     "text": [
      "        symbol                  pub_date                  end_date  TCLOSE  \\\n",
      "0  SHSE.600000 2016-12-30 00:00:00+08:00 2016-12-30 00:00:00+08:00   16.21   \n",
      "1  SZSE.000001 2016-12-30 00:00:00+08:00 2016-12-30 00:00:00+08:00    9.10   \n",
      "\n",
      "   NEGOTIABLEMV   TOTMKTCAP  TURNRATE   PELFY   PETTM   PEMRQ  PELFYNPAAEI  \\\n",
      "0    3.3261e+11  3.5043e+11    0.0598  6.9250  6.4746  6.4605       7.0707   \n",
      "1    1.3314e+11  1.5625e+11    0.2068  7.1462  6.8399  6.2604       7.1341   \n",
      "\n",
      "   PETTMNPAAEI  \n",
      "0       6.6184  \n",
      "1       6.2644  \n"
     ]
    }
   ],
   "source": [
    "fundamentals_data = get_fundamentals(table='trading_derivative_indicator', symbols='SHSE.600000, SZSE.000001', start_date='2017-01-01', end_date='2017-01-01',             fields='TCLOSE,NEGOTIABLEMV,TOTMKTCAP,TURNRATE,PELFY,PETTM,PEMRQ,PELFYNPAAEI,PETTMNPAAEI', df=True)\n",
    "print(fundamentals_data)"
   ]
  },
  {
   "cell_type": "markdown",
   "metadata": {},
   "source": [
    "## get_fundamentals_n - 查询基本面数据最新n条"
   ]
  },
  {
   "cell_type": "code",
   "execution_count": 6,
   "metadata": {},
   "outputs": [
    {
     "name": "stdout",
     "output_type": "stream",
     "text": [
      "        symbol                  pub_date                  end_date  TCLOSE  \\\n",
      "0  SHSE.600000 2021-09-13 00:00:00+08:00 2021-09-13 00:00:00+08:00    9.39   \n",
      "1  SHSE.600000 2021-09-10 00:00:00+08:00 2021-09-10 00:00:00+08:00    9.41   \n",
      "2  SHSE.600000 2021-09-09 00:00:00+08:00 2021-09-09 00:00:00+08:00    9.30   \n",
      "3  SZSE.000001 2021-09-13 00:00:00+08:00 2021-09-13 00:00:00+08:00   20.21   \n",
      "4  SZSE.000001 2021-09-10 00:00:00+08:00 2021-09-10 00:00:00+08:00   20.57   \n",
      "5  SZSE.000001 2021-09-09 00:00:00+08:00 2021-09-09 00:00:00+08:00   19.00   \n",
      "\n",
      "   NEGOTIABLEMV   TOTMKTCAP  TURNRATE    PELFY    PETTM    PEMRQ  PELFYNPAAEI  \\\n",
      "0    2.7562e+11  2.7562e+11    0.1001   4.7255   4.6551   4.6186       4.7594   \n",
      "1    2.7620e+11  2.7620e+11    0.1950   4.7356   4.6650   4.6284       4.7695   \n",
      "2    2.7298e+11  2.7298e+11    0.1089   4.6802   4.6104   4.5743       4.7138   \n",
      "3    3.9219e+11  3.9219e+11    0.6685  13.5576  11.9451  11.1526      13.5989   \n",
      "4    3.9918e+11  3.9918e+11    1.1929  13.7991  12.1579  11.3513      13.8412   \n",
      "5    3.6871e+11  3.6871e+11    0.3811  12.7459  11.2299  10.4849      12.7848   \n",
      "\n",
      "   PETTMNPAAEI  \n",
      "0       4.6355  \n",
      "1       4.6454  \n",
      "2       4.5911  \n",
      "3      11.1985  \n",
      "4      11.3980  \n",
      "5      10.5280  \n"
     ]
    }
   ],
   "source": [
    "the_last_n_fundamentals = get_fundamentals_n(table='trading_derivative_indicator', symbols='SHSE.600000, SZSE.000001', end_date='2021-09-13', count=3,           fields='TCLOSE,NEGOTIABLEMV,TOTMKTCAP,TURNRATE,PELFY,PETTM,PEMRQ,PELFYNPAAEI,PETTMNPAAEI',df=True)\n",
    "print(the_last_n_fundamentals)"
   ]
  },
  {
   "cell_type": "code",
   "execution_count": null,
   "metadata": {},
   "outputs": [],
   "source": []
  }
 ],
 "metadata": {
  "kernelspec": {
   "display_name": "Python 3",
   "language": "python",
   "name": "python3"
  },
  "language_info": {
   "codemirror_mode": {
    "name": "ipython",
    "version": 3
   },
   "file_extension": ".py",
   "mimetype": "text/x-python",
   "name": "python",
   "nbconvert_exporter": "python",
   "pygments_lexer": "ipython3",
   "version": "3.8.5"
  }
 },
 "nbformat": 4,
 "nbformat_minor": 4
}
